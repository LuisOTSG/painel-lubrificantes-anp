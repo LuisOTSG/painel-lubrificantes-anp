{
 "cells": [
  {
   "cell_type": "markdown",
   "id": "68ff7343",
   "metadata": {},
   "source": [
    "# Análise do Mercado de Lubrificantes da ANP - Anexo F"
   ]
  },
  {
   "cell_type": "code",
   "execution_count": 122,
   "id": "2ea9b566",
   "metadata": {},
   "outputs": [],
   "source": [
    "# Importando as bibliotecas\n",
    "import pandas as pd\n",
    "import matplotlib.pyplot as plt\n",
    "import seaborn as sns\n",
    "import numpy as np"
   ]
  },
  {
   "cell_type": "code",
   "execution_count": 25,
   "id": "203e9dfc",
   "metadata": {},
   "outputs": [
    {
     "data": {
      "text/html": [
       "<div>\n",
       "<style scoped>\n",
       "    .dataframe tbody tr th:only-of-type {\n",
       "        vertical-align: middle;\n",
       "    }\n",
       "\n",
       "    .dataframe tbody tr th {\n",
       "        vertical-align: top;\n",
       "    }\n",
       "\n",
       "    .dataframe thead th {\n",
       "        text-align: right;\n",
       "    }\n",
       "</style>\n",
       "<table border=\"1\" class=\"dataframe\">\n",
       "  <thead>\n",
       "    <tr style=\"text-align: right;\">\n",
       "      <th></th>\n",
       "      <th>Ano</th>\n",
       "      <th>Mês</th>\n",
       "      <th>Região da coleta</th>\n",
       "      <th>UF da coleta</th>\n",
       "      <th>Código do Município - ANP</th>\n",
       "      <th>Código do Município - IBGE</th>\n",
       "      <th>Município da coleta</th>\n",
       "      <th>Volume coletado(L)</th>\n",
       "    </tr>\n",
       "  </thead>\n",
       "  <tbody>\n",
       "    <tr>\n",
       "      <th>0</th>\n",
       "      <td>2016</td>\n",
       "      <td>1</td>\n",
       "      <td>CO</td>\n",
       "      <td>DF</td>\n",
       "      <td>1778</td>\n",
       "      <td>5300108</td>\n",
       "      <td>BRASILIA - DF</td>\n",
       "      <td>514750</td>\n",
       "    </tr>\n",
       "    <tr>\n",
       "      <th>1</th>\n",
       "      <td>2016</td>\n",
       "      <td>1</td>\n",
       "      <td>CO</td>\n",
       "      <td>GO</td>\n",
       "      <td>2049</td>\n",
       "      <td>5200050</td>\n",
       "      <td>ABADIA DE GOIAS - GO</td>\n",
       "      <td>600</td>\n",
       "    </tr>\n",
       "    <tr>\n",
       "      <th>2</th>\n",
       "      <td>2016</td>\n",
       "      <td>1</td>\n",
       "      <td>CO</td>\n",
       "      <td>GO</td>\n",
       "      <td>2051</td>\n",
       "      <td>5200134</td>\n",
       "      <td>ACREUNA - GO</td>\n",
       "      <td>2720</td>\n",
       "    </tr>\n",
       "    <tr>\n",
       "      <th>3</th>\n",
       "      <td>2016</td>\n",
       "      <td>1</td>\n",
       "      <td>CO</td>\n",
       "      <td>GO</td>\n",
       "      <td>2055</td>\n",
       "      <td>5200258</td>\n",
       "      <td>AGUAS LINDAS DE GOIAS - GO</td>\n",
       "      <td>11300</td>\n",
       "    </tr>\n",
       "    <tr>\n",
       "      <th>4</th>\n",
       "      <td>2016</td>\n",
       "      <td>1</td>\n",
       "      <td>CO</td>\n",
       "      <td>GO</td>\n",
       "      <td>2059</td>\n",
       "      <td>5200555</td>\n",
       "      <td>ALTO HORIZONTE - GO</td>\n",
       "      <td>30630</td>\n",
       "    </tr>\n",
       "  </tbody>\n",
       "</table>\n",
       "</div>"
      ],
      "text/plain": [
       "    Ano  Mês Região da coleta UF da coleta  Código do Município - ANP  \\\n",
       "0  2016    1               CO           DF                       1778   \n",
       "1  2016    1               CO           GO                       2049   \n",
       "2  2016    1               CO           GO                       2051   \n",
       "3  2016    1               CO           GO                       2055   \n",
       "4  2016    1               CO           GO                       2059   \n",
       "\n",
       "   Código do Município - IBGE         Município da coleta  Volume coletado(L)  \n",
       "0                     5300108               BRASILIA - DF              514750  \n",
       "1                     5200050        ABADIA DE GOIAS - GO                 600  \n",
       "2                     5200134                ACREUNA - GO                2720  \n",
       "3                     5200258  AGUAS LINDAS DE GOIAS - GO               11300  \n",
       "4                     5200555         ALTO HORIZONTE - GO               30630  "
      ]
     },
     "execution_count": 25,
     "metadata": {},
     "output_type": "execute_result"
    }
   ],
   "source": [
    "# Lendo o arquivo .csv\n",
    "df = pd.read_csv('painel-dinamico-dado-lubrificante/Lubrificante_Anexo_F.csv', sep=';', encoding='latin-1')\n",
    "df.head()"
   ]
  },
  {
   "cell_type": "code",
   "execution_count": 26,
   "id": "d963c7fd",
   "metadata": {},
   "outputs": [
    {
     "data": {
      "text/plain": [
       "(209667, 8)"
      ]
     },
     "execution_count": 26,
     "metadata": {},
     "output_type": "execute_result"
    }
   ],
   "source": [
    "# Verificando o tamanho do conjunto de dados\n",
    "df.shape"
   ]
  },
  {
   "cell_type": "code",
   "execution_count": 27,
   "id": "efb929da",
   "metadata": {},
   "outputs": [
    {
     "data": {
      "text/plain": [
       "Ano                            int64\n",
       "Mês                            int64\n",
       "Região da coleta              object\n",
       "UF da coleta                  object\n",
       "Código do Município - ANP      int64\n",
       "Código do Município - IBGE     int64\n",
       "Município da coleta           object\n",
       "Volume coletado(L)             int64\n",
       "dtype: object"
      ]
     },
     "execution_count": 27,
     "metadata": {},
     "output_type": "execute_result"
    }
   ],
   "source": [
    "# Verificando os tipos de dados das colunas\n",
    "df.dtypes"
   ]
  },
  {
   "cell_type": "code",
   "execution_count": 30,
   "id": "efe08fbf",
   "metadata": {},
   "outputs": [
    {
     "data": {
      "text/html": [
       "<div>\n",
       "<style scoped>\n",
       "    .dataframe tbody tr th:only-of-type {\n",
       "        vertical-align: middle;\n",
       "    }\n",
       "\n",
       "    .dataframe tbody tr th {\n",
       "        vertical-align: top;\n",
       "    }\n",
       "\n",
       "    .dataframe thead th {\n",
       "        text-align: right;\n",
       "    }\n",
       "</style>\n",
       "<table border=\"1\" class=\"dataframe\">\n",
       "  <thead>\n",
       "    <tr style=\"text-align: right;\">\n",
       "      <th></th>\n",
       "      <th>NUM_ANO</th>\n",
       "      <th>NUM_MES</th>\n",
       "      <th>CO_REGIAO</th>\n",
       "      <th>CO_UF</th>\n",
       "      <th>CO_MUNICIPIO_ANP</th>\n",
       "      <th>CO_MUNICIPIO_IBGE</th>\n",
       "      <th>NM_MUNICIPIO_UF</th>\n",
       "      <th>VL_VOLUME_COLETA</th>\n",
       "    </tr>\n",
       "  </thead>\n",
       "  <tbody>\n",
       "    <tr>\n",
       "      <th>0</th>\n",
       "      <td>2016</td>\n",
       "      <td>1</td>\n",
       "      <td>CO</td>\n",
       "      <td>DF</td>\n",
       "      <td>1778</td>\n",
       "      <td>5300108</td>\n",
       "      <td>BRASILIA - DF</td>\n",
       "      <td>514750</td>\n",
       "    </tr>\n",
       "    <tr>\n",
       "      <th>1</th>\n",
       "      <td>2016</td>\n",
       "      <td>1</td>\n",
       "      <td>CO</td>\n",
       "      <td>GO</td>\n",
       "      <td>2049</td>\n",
       "      <td>5200050</td>\n",
       "      <td>ABADIA DE GOIAS - GO</td>\n",
       "      <td>600</td>\n",
       "    </tr>\n",
       "    <tr>\n",
       "      <th>2</th>\n",
       "      <td>2016</td>\n",
       "      <td>1</td>\n",
       "      <td>CO</td>\n",
       "      <td>GO</td>\n",
       "      <td>2051</td>\n",
       "      <td>5200134</td>\n",
       "      <td>ACREUNA - GO</td>\n",
       "      <td>2720</td>\n",
       "    </tr>\n",
       "    <tr>\n",
       "      <th>3</th>\n",
       "      <td>2016</td>\n",
       "      <td>1</td>\n",
       "      <td>CO</td>\n",
       "      <td>GO</td>\n",
       "      <td>2055</td>\n",
       "      <td>5200258</td>\n",
       "      <td>AGUAS LINDAS DE GOIAS - GO</td>\n",
       "      <td>11300</td>\n",
       "    </tr>\n",
       "    <tr>\n",
       "      <th>4</th>\n",
       "      <td>2016</td>\n",
       "      <td>1</td>\n",
       "      <td>CO</td>\n",
       "      <td>GO</td>\n",
       "      <td>2059</td>\n",
       "      <td>5200555</td>\n",
       "      <td>ALTO HORIZONTE - GO</td>\n",
       "      <td>30630</td>\n",
       "    </tr>\n",
       "  </tbody>\n",
       "</table>\n",
       "</div>"
      ],
      "text/plain": [
       "   NUM_ANO  NUM_MES CO_REGIAO CO_UF  CO_MUNICIPIO_ANP  CO_MUNICIPIO_IBGE  \\\n",
       "0     2016        1        CO    DF              1778            5300108   \n",
       "1     2016        1        CO    GO              2049            5200050   \n",
       "2     2016        1        CO    GO              2051            5200134   \n",
       "3     2016        1        CO    GO              2055            5200258   \n",
       "4     2016        1        CO    GO              2059            5200555   \n",
       "\n",
       "              NM_MUNICIPIO_UF  VL_VOLUME_COLETA  \n",
       "0               BRASILIA - DF            514750  \n",
       "1        ABADIA DE GOIAS - GO               600  \n",
       "2                ACREUNA - GO              2720  \n",
       "3  AGUAS LINDAS DE GOIAS - GO             11300  \n",
       "4         ALTO HORIZONTE - GO             30630  "
      ]
     },
     "execution_count": 30,
     "metadata": {},
     "output_type": "execute_result"
    }
   ],
   "source": [
    "# Renomeando o título das colunas\n",
    "df = df.rename(columns={'Ano': 'NUM_ANO', 'Mês': 'NUM_MES', 'Região da coleta': 'CO_REGIAO', 'UF da coleta': 'CO_UF', \\\n",
    "                        'Código do Município - ANP': 'CO_MUNICIPIO_ANP', 'Código do Município - IBGE': 'CO_MUNICIPIO_IBGE', \\\n",
    "                       'Município da coleta': 'NM_MUNICIPIO_UF', 'Volume coletado(L)': 'VL_VOLUME_COLETA'})\n",
    "df.head()"
   ]
  },
  {
   "cell_type": "code",
   "execution_count": 31,
   "id": "8efaadd6",
   "metadata": {},
   "outputs": [
    {
     "data": {
      "text/html": [
       "<div>\n",
       "<style scoped>\n",
       "    .dataframe tbody tr th:only-of-type {\n",
       "        vertical-align: middle;\n",
       "    }\n",
       "\n",
       "    .dataframe tbody tr th {\n",
       "        vertical-align: top;\n",
       "    }\n",
       "\n",
       "    .dataframe thead th {\n",
       "        text-align: right;\n",
       "    }\n",
       "</style>\n",
       "<table border=\"1\" class=\"dataframe\">\n",
       "  <thead>\n",
       "    <tr style=\"text-align: right;\">\n",
       "      <th></th>\n",
       "      <th>NUM_ANO</th>\n",
       "      <th>NUM_MES</th>\n",
       "      <th>CO_MUNICIPIO_ANP</th>\n",
       "      <th>CO_MUNICIPIO_IBGE</th>\n",
       "      <th>VL_VOLUME_COLETA</th>\n",
       "    </tr>\n",
       "  </thead>\n",
       "  <tbody>\n",
       "    <tr>\n",
       "      <th>count</th>\n",
       "      <td>209667.000000</td>\n",
       "      <td>209667.000000</td>\n",
       "      <td>209667.000000</td>\n",
       "      <td>2.096670e+05</td>\n",
       "      <td>2.096670e+05</td>\n",
       "    </tr>\n",
       "    <tr>\n",
       "      <th>mean</th>\n",
       "      <td>2018.931696</td>\n",
       "      <td>6.326766</td>\n",
       "      <td>5805.088784</td>\n",
       "      <td>3.551002e+06</td>\n",
       "      <td>1.529216e+04</td>\n",
       "    </tr>\n",
       "    <tr>\n",
       "      <th>std</th>\n",
       "      <td>1.931388</td>\n",
       "      <td>3.388794</td>\n",
       "      <td>2908.343388</td>\n",
       "      <td>8.732724e+05</td>\n",
       "      <td>8.444240e+04</td>\n",
       "    </tr>\n",
       "    <tr>\n",
       "      <th>min</th>\n",
       "      <td>2016.000000</td>\n",
       "      <td>1.000000</td>\n",
       "      <td>1.000000</td>\n",
       "      <td>1.100015e+06</td>\n",
       "      <td>1.000000e+00</td>\n",
       "    </tr>\n",
       "    <tr>\n",
       "      <th>25%</th>\n",
       "      <td>2017.000000</td>\n",
       "      <td>3.000000</td>\n",
       "      <td>3290.000000</td>\n",
       "      <td>3.109006e+06</td>\n",
       "      <td>6.000000e+02</td>\n",
       "    </tr>\n",
       "    <tr>\n",
       "      <th>50%</th>\n",
       "      <td>2019.000000</td>\n",
       "      <td>6.000000</td>\n",
       "      <td>6272.000000</td>\n",
       "      <td>3.521002e+06</td>\n",
       "      <td>1.920000e+03</td>\n",
       "    </tr>\n",
       "    <tr>\n",
       "      <th>75%</th>\n",
       "      <td>2021.000000</td>\n",
       "      <td>9.000000</td>\n",
       "      <td>8496.000000</td>\n",
       "      <td>4.209003e+06</td>\n",
       "      <td>7.200000e+03</td>\n",
       "    </tr>\n",
       "    <tr>\n",
       "      <th>max</th>\n",
       "      <td>2022.000000</td>\n",
       "      <td>12.000000</td>\n",
       "      <td>12786.000000</td>\n",
       "      <td>5.300108e+06</td>\n",
       "      <td>3.984163e+06</td>\n",
       "    </tr>\n",
       "  </tbody>\n",
       "</table>\n",
       "</div>"
      ],
      "text/plain": [
       "             NUM_ANO        NUM_MES  CO_MUNICIPIO_ANP  CO_MUNICIPIO_IBGE  \\\n",
       "count  209667.000000  209667.000000     209667.000000       2.096670e+05   \n",
       "mean     2018.931696       6.326766       5805.088784       3.551002e+06   \n",
       "std         1.931388       3.388794       2908.343388       8.732724e+05   \n",
       "min      2016.000000       1.000000          1.000000       1.100015e+06   \n",
       "25%      2017.000000       3.000000       3290.000000       3.109006e+06   \n",
       "50%      2019.000000       6.000000       6272.000000       3.521002e+06   \n",
       "75%      2021.000000       9.000000       8496.000000       4.209003e+06   \n",
       "max      2022.000000      12.000000      12786.000000       5.300108e+06   \n",
       "\n",
       "       VL_VOLUME_COLETA  \n",
       "count      2.096670e+05  \n",
       "mean       1.529216e+04  \n",
       "std        8.444240e+04  \n",
       "min        1.000000e+00  \n",
       "25%        6.000000e+02  \n",
       "50%        1.920000e+03  \n",
       "75%        7.200000e+03  \n",
       "max        3.984163e+06  "
      ]
     },
     "execution_count": 31,
     "metadata": {},
     "output_type": "execute_result"
    }
   ],
   "source": [
    "# Descrição geral das estatísticas das colunas\n",
    "df.describe()"
   ]
  },
  {
   "cell_type": "markdown",
   "id": "f8488f0a",
   "metadata": {},
   "source": [
    "### Variáveis\n",
    "- NUM_ANO: Ano da Coleta\n",
    "- NUM_MES: Mês da Coleta\n",
    "- CO_REGIAO: Código da Região da Coleta\n",
    "- CO_UF: Código do Estado da Coleta\n",
    "- CO_MUNICIPIO_ANP: Código do Município conforme ANP\n",
    "- CO_MUNICIPIO_IBGE: Código do Município conforme IBGE\n",
    "- NM_MUNICIPIO_UF: Nome do Município e UF do Município da Coleta\n",
    "- VL_VOLUME_COLETA: Volume da Coleta (em litros)"
   ]
  },
  {
   "cell_type": "markdown",
   "id": "a25c2f6c",
   "metadata": {},
   "source": [
    "## Parâmetros de Região"
   ]
  },
  {
   "cell_type": "code",
   "execution_count": 32,
   "id": "3e30c2f5",
   "metadata": {
    "scrolled": true
   },
   "outputs": [
    {
     "data": {
      "text/plain": [
       "array(['CO', 'N ', 'NE', 'S ', 'SE'], dtype=object)"
      ]
     },
     "execution_count": 32,
     "metadata": {},
     "output_type": "execute_result"
    }
   ],
   "source": [
    "# Retornando valores distintos da Região\n",
    "df['CO_REGIAO'].unique()"
   ]
  },
  {
   "cell_type": "code",
   "execution_count": 47,
   "id": "2eea5572",
   "metadata": {},
   "outputs": [
    {
     "data": {
      "text/plain": [
       "CO_UF\n",
       "MG    756\n",
       "SP    638\n",
       "RS    494\n",
       "PR    396\n",
       "BA    351\n",
       "SC    293\n",
       "GO    229\n",
       "PE    176\n",
       "CE    163\n",
       "PB    161\n",
       "MT    136\n",
       "MA    128\n",
       "RN    125\n",
       "PI    110\n",
       "PA    105\n",
       "TO    101\n",
       "AL     97\n",
       "RJ     92\n",
       "MS     79\n",
       "ES     78\n",
       "SE     68\n",
       "AM     62\n",
       "RO     48\n",
       "AC     14\n",
       "RR     10\n",
       "AP     10\n",
       "DF      1\n",
       "Name: CO_MUNICIPIO_IBGE, dtype: int64"
      ]
     },
     "execution_count": 47,
     "metadata": {},
     "output_type": "execute_result"
    }
   ],
   "source": [
    "# Contagem de municípios com coleta por UF\n",
    "municipios_coleta_uf = df.groupby('CO_UF')['CO_MUNICIPIO_IBGE'].nunique().sort_values(ascending=False)\n",
    "municipios_coleta_uf"
   ]
  },
  {
   "cell_type": "code",
   "execution_count": 49,
   "id": "796a90f6",
   "metadata": {},
   "outputs": [
    {
     "data": {
      "image/png": "[encoded data removed]",
      "text/plain": [
       "<Figure size 1152x360 with 1 Axes>"
      ]
     },
     "metadata": {
      "needs_background": "light"
     },
     "output_type": "display_data"
    }
   ],
   "source": [
    "#\n",
    "plt.figure(figsize=(16,5))\n",
    "plt.bar(x=municipios_coleta_uf.index, height=municipios_coleta_uf)\n",
    "plt.title(\"Municípios com Coleta por UF\")\n",
    "plt.xlabel(\"Total Municípios\")\n",
    "plt.ylabel(\"UF de Coleta\")\n",
    "\n",
    "plt.show()"
   ]
  },
  {
   "cell_type": "code",
   "execution_count": 141,
   "id": "a5a73c03",
   "metadata": {},
   "outputs": [
    {
     "data": {
      "text/plain": [
       "CO_REGIAO\n",
       "N      350\n",
       "CO     445\n",
       "S     1183\n",
       "NE    1379\n",
       "SE    1564\n",
       "Name: CO_MUNICIPIO_IBGE, dtype: int64"
      ]
     },
     "execution_count": 141,
     "metadata": {},
     "output_type": "execute_result"
    }
   ],
   "source": [
    "# Contagem de municípios com coleta por Região\n",
    "municipios_coleta_regiao = df.groupby('CO_REGIAO')['CO_MUNICIPIO_IBGE'].nunique().sort_values(ascending=True)\n",
    "municipios_coleta_regiao"
   ]
  },
  {
   "cell_type": "code",
   "execution_count": 142,
   "id": "6b456cd9",
   "metadata": {},
   "outputs": [
    {
     "data": {
      "image/png": "[encoded data removed]",
      "text/plain": [
       "<Figure size 720x360 with 1 Axes>"
      ]
     },
     "metadata": {
      "needs_background": "light"
     },
     "output_type": "display_data"
    }
   ],
   "source": [
    "#\n",
    "plt.figure(figsize=(10,5))\n",
    "plt.barh(y=municipios_coleta_regiao.index, width=municipios_coleta_regiao)\n",
    "plt.title(\"Municípios com Coleta por Região\")\n",
    "plt.xlabel(\"Total Municípios\")\n",
    "plt.ylabel(\"Região de Coleta\")\n",
    "\n",
    "plt.show()"
   ]
  },
  {
   "cell_type": "markdown",
   "id": "343e493a",
   "metadata": {},
   "source": [
    "## Parâmetro de Volume Coletado"
   ]
  },
  {
   "cell_type": "code",
   "execution_count": 60,
   "id": "39b44b15",
   "metadata": {},
   "outputs": [
    {
     "data": {
      "text/plain": [
       "CO_UF\n",
       "SP    855159611\n",
       "MG    336366462\n",
       "RJ    292466131\n",
       "PR    289071432\n",
       "RS    212815694\n",
       "SC    167140503\n",
       "BA    134109056\n",
       "GO    107929333\n",
       "MT    104687341\n",
       "AM     95337010\n",
       "ES     73784553\n",
       "PA     70483933\n",
       "MS     68791692\n",
       "PE     62674206\n",
       "CE     59473559\n",
       "DF     46777943\n",
       "MA     36478649\n",
       "AL     35996380\n",
       "RN     26330026\n",
       "SE     25795795\n",
       "PB     25350527\n",
       "RO     23439633\n",
       "TO     20753306\n",
       "RR     17175603\n",
       "PI     13168547\n",
       "AP      2716847\n",
       "AC      1988356\n",
       "Name: VL_VOLUME_COLETA, dtype: int64"
      ]
     },
     "execution_count": 60,
     "metadata": {},
     "output_type": "execute_result"
    }
   ],
   "source": [
    "# Volume coletado por UF de coleta\n",
    "volume_uf_coleta = df.groupby('CO_UF')['VL_VOLUME_COLETA'].sum().sort_values(ascending=False)\n",
    "volume_uf_coleta"
   ]
  },
  {
   "cell_type": "code",
   "execution_count": 75,
   "id": "25895790",
   "metadata": {},
   "outputs": [
    {
     "data": {
      "image/png": "[encoded data removed]",
      "text/plain": [
       "<Figure size 1152x360 with 1 Axes>"
      ]
     },
     "metadata": {
      "needs_background": "light"
     },
     "output_type": "display_data"
    }
   ],
   "source": [
    "#\n",
    "plt.figure(figsize=(16,5))\n",
    "plt.bar(x=volume_uf_coleta.index, height=volume_uf_coleta/1000000)\n",
    "plt.title(\"Volume Coletado por UF (em milhões de litros)\")\n",
    "plt.ylabel(\"Volume Total (em milhões de litros)\")\n",
    "plt.xlabel(\"UF de Coleta\")\n",
    "\n",
    "plt.show()"
   ]
  },
  {
   "cell_type": "code",
   "execution_count": 143,
   "id": "d690f175",
   "metadata": {},
   "outputs": [
    {
     "data": {
      "text/plain": [
       "CO_REGIAO\n",
       "N      231894688\n",
       "CO     328186309\n",
       "NE     419376745\n",
       "S      669027629\n",
       "SE    1557776757\n",
       "Name: VL_VOLUME_COLETA, dtype: int64"
      ]
     },
     "execution_count": 143,
     "metadata": {},
     "output_type": "execute_result"
    }
   ],
   "source": [
    "# Volume coletado por Região de coleta\n",
    "volume_regiao_coleta = df.groupby('CO_REGIAO')['VL_VOLUME_COLETA'].sum().sort_values(ascending=True)\n",
    "volume_regiao_coleta"
   ]
  },
  {
   "cell_type": "code",
   "execution_count": 144,
   "id": "734f3e9f",
   "metadata": {},
   "outputs": [
    {
     "data": {
      "image/png": "[encoded data removed]",
      "text/plain": [
       "<Figure size 720x360 with 1 Axes>"
      ]
     },
     "metadata": {
      "needs_background": "light"
     },
     "output_type": "display_data"
    }
   ],
   "source": [
    "#\n",
    "plt.figure(figsize=(10,5))\n",
    "plt.barh(y=volume_regiao_coleta.index, width=volume_regiao_coleta/1000000)\n",
    "plt.title(\"Volume Coletado por Região (em milhões de litros)\")\n",
    "plt.ylabel(\"Volume Total (em milhões de litros)\")\n",
    "plt.xlabel(\"Região de Coleta\")\n",
    "\n",
    "plt.show()"
   ]
  },
  {
   "cell_type": "markdown",
   "id": "4bbcf848",
   "metadata": {},
   "source": [
    "## Parâmetro de Período"
   ]
  },
  {
   "cell_type": "code",
   "execution_count": 73,
   "id": "f5d29be5",
   "metadata": {},
   "outputs": [
    {
     "data": {
      "text/plain": [
       "NUM_ANO\n",
       "2016    431710252\n",
       "2017    421641144\n",
       "2018    474339083\n",
       "2019    489414281\n",
       "2020    467872095\n",
       "2021    565790862\n",
       "2022    355494411\n",
       "Name: VL_VOLUME_COLETA, dtype: int64"
      ]
     },
     "execution_count": 73,
     "metadata": {},
     "output_type": "execute_result"
    }
   ],
   "source": [
    "#\n",
    "volume_ano_coleta = df.groupby('NUM_ANO')['VL_VOLUME_COLETA'].sum()\n",
    "volume_ano_coleta"
   ]
  },
  {
   "cell_type": "code",
   "execution_count": 77,
   "id": "68a5885f",
   "metadata": {},
   "outputs": [
    {
     "data": {
      "image/png": "[encoded data removed]",
      "text/plain": [
       "<Figure size 720x360 with 1 Axes>"
      ]
     },
     "metadata": {
      "needs_background": "light"
     },
     "output_type": "display_data"
    }
   ],
   "source": [
    "#\n",
    "plt.figure(figsize=(10,5))\n",
    "plt.bar(x=volume_ano_coleta.index, height=volume_ano_coleta/1000000)\n",
    "plt.title(\"Volume Coletado por Ano (em milhões de litros)\")\n",
    "plt.ylabel(\"Volume Total (em milhões de litros)\")\n",
    "plt.xlabel(\"Ano de Coleta\")\n",
    "\n",
    "plt.show()"
   ]
  },
  {
   "cell_type": "code",
   "execution_count": 138,
   "id": "a4990d9f",
   "metadata": {
    "scrolled": false
   },
   "outputs": [
    {
     "data": {
      "image/png": "[encoded data removed]",
      "text/plain": [
       "<Figure size 1152x360 with 1 Axes>"
      ]
     },
     "metadata": {
      "needs_background": "light"
     },
     "output_type": "display_data"
    }
   ],
   "source": [
    "# Volume Coletado em 2021\n",
    "\n",
    "df_2021 = df[df['NUM_ANO'] == 2021]\n",
    "volume_2021 = df_2021.groupby('NUM_MES')['VL_VOLUME_COLETA'].sum()\n",
    "\n",
    "plt.figure(figsize=(16,5))\n",
    "plt.plot(volume_2021.index, volume_2021/1000000)\n",
    "plt.title(\"Volume Coletado por Mês - 2021 (em milhões de litros)\")\n",
    "plt.xlabel(\"Meses\")\n",
    "plt.ylabel(\"Volume Total (em milhões de litros)\")\n",
    "\n",
    "plt.show()"
   ]
  },
  {
   "cell_type": "code",
   "execution_count": 108,
   "id": "341b3ed0",
   "metadata": {},
   "outputs": [
    {
     "data": {
      "text/html": [
       "<div>\n",
       "<style scoped>\n",
       "    .dataframe tbody tr th:only-of-type {\n",
       "        vertical-align: middle;\n",
       "    }\n",
       "\n",
       "    .dataframe tbody tr th {\n",
       "        vertical-align: top;\n",
       "    }\n",
       "\n",
       "    .dataframe thead th {\n",
       "        text-align: right;\n",
       "    }\n",
       "</style>\n",
       "<table border=\"1\" class=\"dataframe\">\n",
       "  <thead>\n",
       "    <tr style=\"text-align: right;\">\n",
       "      <th></th>\n",
       "      <th>NUM_ANO</th>\n",
       "      <th>NUM_MES</th>\n",
       "      <th>CO_REGIAO</th>\n",
       "      <th>CO_UF</th>\n",
       "      <th>CO_MUNICIPIO_ANP</th>\n",
       "      <th>CO_MUNICIPIO_IBGE</th>\n",
       "      <th>NM_MUNICIPIO_UF</th>\n",
       "      <th>VL_VOLUME_COLETA</th>\n",
       "    </tr>\n",
       "  </thead>\n",
       "  <tbody>\n",
       "    <tr>\n",
       "      <th>155292</th>\n",
       "      <td>2021</td>\n",
       "      <td>1</td>\n",
       "      <td>SE</td>\n",
       "      <td>ES</td>\n",
       "      <td>1798</td>\n",
       "      <td>3200102</td>\n",
       "      <td>AFONSO CLAUDIO - ES</td>\n",
       "      <td>2630</td>\n",
       "    </tr>\n",
       "    <tr>\n",
       "      <th>155293</th>\n",
       "      <td>2021</td>\n",
       "      <td>1</td>\n",
       "      <td>SE</td>\n",
       "      <td>ES</td>\n",
       "      <td>1800</td>\n",
       "      <td>3200169</td>\n",
       "      <td>AGUA DOCE DO NORTE - ES</td>\n",
       "      <td>200</td>\n",
       "    </tr>\n",
       "    <tr>\n",
       "      <th>155294</th>\n",
       "      <td>2021</td>\n",
       "      <td>1</td>\n",
       "      <td>SE</td>\n",
       "      <td>ES</td>\n",
       "      <td>1801</td>\n",
       "      <td>3200136</td>\n",
       "      <td>AGUIA BRANCA - ES</td>\n",
       "      <td>400</td>\n",
       "    </tr>\n",
       "    <tr>\n",
       "      <th>155295</th>\n",
       "      <td>2021</td>\n",
       "      <td>1</td>\n",
       "      <td>SE</td>\n",
       "      <td>ES</td>\n",
       "      <td>1803</td>\n",
       "      <td>3200201</td>\n",
       "      <td>ALEGRE - ES</td>\n",
       "      <td>1420</td>\n",
       "    </tr>\n",
       "    <tr>\n",
       "      <th>155296</th>\n",
       "      <td>2021</td>\n",
       "      <td>1</td>\n",
       "      <td>SE</td>\n",
       "      <td>ES</td>\n",
       "      <td>1804</td>\n",
       "      <td>3200300</td>\n",
       "      <td>ALFREDO CHAVES - ES</td>\n",
       "      <td>920</td>\n",
       "    </tr>\n",
       "  </tbody>\n",
       "</table>\n",
       "</div>"
      ],
      "text/plain": [
       "        NUM_ANO  NUM_MES CO_REGIAO CO_UF  CO_MUNICIPIO_ANP  CO_MUNICIPIO_IBGE  \\\n",
       "155292     2021        1        SE    ES              1798            3200102   \n",
       "155293     2021        1        SE    ES              1800            3200169   \n",
       "155294     2021        1        SE    ES              1801            3200136   \n",
       "155295     2021        1        SE    ES              1803            3200201   \n",
       "155296     2021        1        SE    ES              1804            3200300   \n",
       "\n",
       "                NM_MUNICIPIO_UF  VL_VOLUME_COLETA  \n",
       "155292      AFONSO CLAUDIO - ES              2630  \n",
       "155293  AGUA DOCE DO NORTE - ES               200  \n",
       "155294        AGUIA BRANCA - ES               400  \n",
       "155295              ALEGRE - ES              1420  \n",
       "155296      ALFREDO CHAVES - ES               920  "
      ]
     },
     "execution_count": 108,
     "metadata": {},
     "output_type": "execute_result"
    }
   ],
   "source": [
    "# Filtro da região Sudeste (SE) no ano de 2021\n",
    "df_sudeste_2021 = df.loc[(df['CO_REGIAO'] == \"SE\") & (df['NUM_ANO'] == 2021)]\n",
    "df_sudeste_2021.head()"
   ]
  },
  {
   "cell_type": "code",
   "execution_count": 109,
   "id": "44cb7940",
   "metadata": {},
   "outputs": [
    {
     "data": {
      "text/plain": [
       "NUM_MES\n",
       "1     18867638\n",
       "2     20393309\n",
       "3     24192453\n",
       "4     22265830\n",
       "5     22556930\n",
       "6     22998699\n",
       "7     22674182\n",
       "8     23156811\n",
       "9     22621713\n",
       "10    22964696\n",
       "11    20518606\n",
       "12    18058596\n",
       "Name: VL_VOLUME_COLETA, dtype: int64"
      ]
     },
     "execution_count": 109,
     "metadata": {},
     "output_type": "execute_result"
    }
   ],
   "source": [
    "# Volume Coletado na região Sudeste (SE) no ano de 2021 por mês\n",
    "volume_sudeste_2021 = df_sudeste_2021.groupby('NUM_MES')['VL_VOLUME_COLETA'].sum()\n",
    "volume_sudeste_2021"
   ]
  },
  {
   "cell_type": "code",
   "execution_count": 137,
   "id": "8d63f437",
   "metadata": {},
   "outputs": [
    {
     "data": {
      "image/png": "[encoded data removed]",
      "text/plain": [
       "<Figure size 1152x360 with 1 Axes>"
      ]
     },
     "metadata": {
      "needs_background": "light"
     },
     "output_type": "display_data"
    }
   ],
   "source": [
    "plt.figure(figsize=(16,5))\n",
    "plt.plot(volume_sudeste_2021.index, volume_sudeste_2021/1000000)\n",
    "plt.title(\"Volume Coletado por Mês no Sudeste - 2021 (em milhões de litros)\")\n",
    "plt.xlabel(\"Meses\")\n",
    "plt.ylabel(\"Volume Total (em milhões de litros)\")\n",
    "\n",
    "plt.show()"
   ]
  },
  {
   "cell_type": "code",
   "execution_count": 115,
   "id": "a0062fb2",
   "metadata": {},
   "outputs": [],
   "source": [
    "# Volume Coletado nos Estados do Sudeste no ano de 2021 por mês\n",
    "volume_mg_2021 = df_sudeste_2021.loc[(df_sudeste_2021['CO_UF'] == \"MG\")].groupby('NUM_MES')['VL_VOLUME_COLETA'].sum()\n",
    "volume_sp_2021 = df_sudeste_2021.loc[(df_sudeste_2021['CO_UF'] == \"SP\")].groupby('NUM_MES')['VL_VOLUME_COLETA'].sum()\n",
    "volume_rj_2021 = df_sudeste_2021.loc[(df_sudeste_2021['CO_UF'] == \"RJ\")].groupby('NUM_MES')['VL_VOLUME_COLETA'].sum()\n",
    "volume_es_2021 = df_sudeste_2021.loc[(df_sudeste_2021['CO_UF'] == \"ES\")].groupby('NUM_MES')['VL_VOLUME_COLETA'].sum()"
   ]
  },
  {
   "cell_type": "code",
   "execution_count": 136,
   "id": "1662138d",
   "metadata": {},
   "outputs": [
    {
     "data": {
      "image/png": "[encoded data removed]",
      "text/plain": [
       "<Figure size 1296x360 with 1 Axes>"
      ]
     },
     "metadata": {
      "needs_background": "light"
     },
     "output_type": "display_data"
    }
   ],
   "source": [
    "#\n",
    "r1 = np.arange(len(volume_mg_2021))\n",
    "r2 = [x + 0.25 for x in r1]\n",
    "r3 = [x + 0.25 for x in r2]\n",
    "r4 = [x + 0.25 for x in r3]\n",
    "\n",
    "plt.figure(figsize=(18,5))\n",
    "plt.bar(r1, volume_mg_2021, label=\"MG\")\n",
    "plt.bar(r2, volume_sp_2021, label=\"SP\")\n",
    "plt.bar(r3, volume_rj_2021, label=\"RJ\")\n",
    "plt.bar(r4, volume_es_2021, label=\"ES\")\n",
    "plt.title(\"Comparativo por UF por Mês - 2016 (em milhões de litros)\")\n",
    "plt.xlabel(\"Meses\")\n",
    "plt.ylabel(\"Volume Total (em milhões de litros)\")\n",
    "\n",
    "plt.show()"
   ]
  },
  {
   "cell_type": "markdown",
   "id": "aa772f6d",
   "metadata": {},
   "source": [
    "## .. to be continued ..."
   ]
  },
  {
   "cell_type": "code",
   "execution_count": null,
   "id": "0f07e6a7",
   "metadata": {},
   "outputs": [],
   "source": []
  }
 ],
 "metadata": {
  "kernelspec": {
   "display_name": "Python 3 (ipykernel)",
   "language": "python",
   "name": "python3"
  },
  "language_info": {
   "codemirror_mode": {
    "name": "ipython",
    "version": 3
   },
   "file_extension": ".py",
   "mimetype": "text/x-python",
   "name": "python",
   "nbconvert_exporter": "python",
   "pygments_lexer": "ipython3",
   "version": "3.9.7"
  }
 },
 "nbformat": 4,
 "nbformat_minor": 5
}
